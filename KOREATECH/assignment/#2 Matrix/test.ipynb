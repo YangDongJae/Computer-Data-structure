{
 "cells": [
  {
   "cell_type": "code",
   "execution_count": 20,
   "metadata": {},
   "outputs": [],
   "source": [
    "import random\n",
    "\n",
    "rng = random.Random()\n",
    "\n",
    "class Matrix():\n",
    "    def __init__(self,row,col,f):\n",
    "        self.M =  []\n",
    "\n",
    "        if f == 'r':\n",
    "            self.rMatrix(row,col)\n",
    "            \n",
    "        elif f == 'z':\n",
    "            self.zMatrix(row,col)\n",
    "            \n",
    "    def rMatrix(self,row,col):\n",
    "        for _ in range (row):\n",
    "            self.M.append([rng.randint(1,10) for _ in range (col)])\n",
    "            \n",
    "    def zMatrix(self,row,col):\n",
    "        for _ in range (row):\n",
    "            self.M.append([0] * col)\n",
    "            \n",
    "    def mPrint(self):\n",
    "        for row in self.M:\n",
    "            print(row)\n",
    "            \n",
    "    def __str__(self):\n",
    "        return \"\\n\".join([\" \".join(map(str,row)) for row in self.M])"
   ]
  },
  {
   "cell_type": "code",
   "execution_count": 21,
   "metadata": {},
   "outputs": [
    {
     "name": "stdout",
     "output_type": "stream",
     "text": [
      "[6, 9, 5]\n",
      "[2, 10, 2]\n",
      "[7, 9, 2]\n"
     ]
    }
   ],
   "source": [
    "m1 = Matrix(3,3,'r')\n",
    "m1.mPrint()"
   ]
  },
  {
   "cell_type": "code",
   "execution_count": 23,
   "metadata": {},
   "outputs": [
    {
     "name": "stdout",
     "output_type": "stream",
     "text": [
      "6 9 5\n",
      "2 10 2\n",
      "7 9 2\n"
     ]
    }
   ],
   "source": [
    "print(m1)"
   ]
  },
  {
   "cell_type": "code",
   "execution_count": null,
   "metadata": {},
   "outputs": [],
   "source": []
  }
 ],
 "metadata": {
  "kernelspec": {
   "display_name": "Python 3",
   "language": "python",
   "name": "python3"
  },
  "language_info": {
   "codemirror_mode": {
    "name": "ipython",
    "version": 3
   },
   "file_extension": ".py",
   "mimetype": "text/x-python",
   "name": "python",
   "nbconvert_exporter": "python",
   "pygments_lexer": "ipython3",
   "version": "3.9.6"
  },
  "orig_nbformat": 4
 },
 "nbformat": 4,
 "nbformat_minor": 2
}
